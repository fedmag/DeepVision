{
 "cells": [
  {
   "cell_type": "code",
   "execution_count": 14,
   "metadata": {},
   "outputs": [],
   "source": [
    "import numpy as np\n",
    "from PIL import Image, ImageOps\n",
    "import os\n",
    "import matplotlib.pyplot as plt\n",
    "from tqdm import tqdm\n",
    "from numba import vectorize"
   ]
  },
  {
   "cell_type": "code",
   "execution_count": 15,
   "metadata": {},
   "outputs": [],
   "source": [
    "##############\n",
    "## Subtasks ##\n",
    "##############\n",
    "\n",
    "def makefolder(path):\n",
    "    try:\n",
    "        os.mkdir(path)\n",
    "    except:\n",
    "        pass\n",
    "def makesubfolder(path):\n",
    "    try:\n",
    "        os.makedirs(path)\n",
    "    except:\n",
    "        pass\n",
    "    \n",
    "def add_artifact(image,occult_ratio,aspect_ratio=1):\n",
    "    mat_1 = np.array(image)\n",
    "    size,_ = mat_1.shape\n",
    "    kernel_size = int(occult_ratio * size)\n",
    "    px,py = [np.random.randint(0,high = size-kernel_size),np.random.randint(0,high = size-kernel_size)]\n",
    "\n",
    "    artifact = np.zeros((kernel_size,kernel_size))\n",
    "    mat_1[px:px + kernel_size , py:py + kernel_size] = artifact\n",
    "    \n",
    "    return mat_1"
   ]
  },
  {
   "cell_type": "code",
   "execution_count": 16,
   "metadata": {},
   "outputs": [
    {
     "name": "stdout",
     "output_type": "stream",
     "text": [
      "100\n"
     ]
    },
    {
     "name": "stderr",
     "output_type": "stream",
     "text": [
      "100%|██████████| 1000/1000 [00:05<00:00, 169.07it/s]\n",
      "100%|██████████| 1000/1000 [00:05<00:00, 171.34it/s]\n",
      "100%|██████████| 1000/1000 [00:05<00:00, 170.55it/s]\n",
      "100%|██████████| 1000/1000 [00:05<00:00, 172.16it/s]\n"
     ]
    }
   ],
   "source": [
    "###############################\n",
    "### Preprocessing Pipelines ###\n",
    "###############################\n",
    "\n",
    "def preprocessing_pipeline():\n",
    "    size = np.linspace(100,100,1)\n",
    "    occult_ratio = np.linspace(0.2,0.2,1)\n",
    "    \n",
    "    dir_1 = os.listdir('raw-faces')\n",
    "    dir_2 = ['raw-faces/'+str(d) for d in dir_1]\n",
    "    files = np.array([os.listdir(d) for d in dir_2])\n",
    "    makefolder('groundtruth_output/faces')\n",
    "    makefolder('occulted_output/faces')\n",
    "    \n",
    "    index = 0\n",
    "    for s in size:\n",
    "        desired_size = int(s)\n",
    "        print(desired_size)\n",
    "        dir_3 = 'groundtruth_output/faces/resized_' + str(desired_size)\n",
    "        makesubfolder(dir_3) \n",
    "        counter = 0\n",
    "        for i in range(len(files)):\n",
    "            for j in tqdm(range(len(files[i])),position=0):\n",
    "                \n",
    "                im = Image.open(dir_2[i]+\"/\"+files[i][j])\n",
    "                img_greyscaled = im.convert('L')\n",
    "                img_resized = img_greyscaled.resize((desired_size,desired_size))    \n",
    "                img_resized.save(dir_3 + '/' + files[i][j])\n",
    "                for r in occult_ratio:\n",
    "                    path = 'occulted_output/faces/'+ str(int(100*r)) + '_percent/' + str(int(size[index]))\n",
    "                    makesubfolder(path)\n",
    "                    test = img_resized\n",
    "                    img_occulted = add_artifact(test,r)\n",
    "                    img_final = Image.fromarray(img_occulted)\n",
    "                    img_final.save(path +'/'+ files[i][j])\n",
    "                counter+=1\n",
    "        index += 1\n",
    "        \n",
    "preprocessing_pipeline()"
   ]
  },
  {
   "cell_type": "code",
   "execution_count": null,
   "metadata": {},
   "outputs": [],
   "source": []
  }
 ],
 "metadata": {
  "kernelspec": {
   "display_name": "Python 3",
   "language": "python",
   "name": "python3"
  },
  "language_info": {
   "codemirror_mode": {
    "name": "ipython",
    "version": 3
   },
   "file_extension": ".py",
   "mimetype": "text/x-python",
   "name": "python",
   "nbconvert_exporter": "python",
   "pygments_lexer": "ipython3",
   "version": "3.7.3"
  }
 },
 "nbformat": 4,
 "nbformat_minor": 4
}
