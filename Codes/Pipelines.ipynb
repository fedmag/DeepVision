{
 "cells": [
  {
   "cell_type": "code",
   "execution_count": null,
   "metadata": {},
   "outputs": [],
   "source": [
    "import numpy as np\n",
    "from PIL import Image, ImageOps\n",
    "import os\n",
    "import matplotlib.pyplot as plt\n",
    "from tqdm import tqdm\n",
    "from numba import vectorize"
   ]
  },
  {
   "cell_type": "code",
   "execution_count": null,
   "metadata": {},
   "outputs": [],
   "source": [
    "size = np.linspace(100,300,5)"
   ]
  },
  {
   "cell_type": "code",
   "execution_count": null,
   "metadata": {},
   "outputs": [],
   "source": [
    "def makefolder(path):\n",
    "    try:\n",
    "        os.mkdir(path)\n",
    "    except:\n",
    "        pass\n",
    "def makesubfolder(path):\n",
    "    try:\n",
    "        os.makedirs(path)\n",
    "    except:\n",
    "        pass"
   ]
  },
  {
   "cell_type": "code",
   "execution_count": null,
   "metadata": {},
   "outputs": [],
   "source": [
    "def resize_pipeline(size):\n",
    "    \n",
    "    dir_1 = os.listdir('raw-img')\n",
    "    dir_2 = ['raw-img/'+str(d) for d in dir_1]\n",
    "    files = np.array([os.listdir(d) for d in dir_2])\n",
    "    makefolder('groundtruth_output')\n",
    "    \n",
    "    for s in size:\n",
    "        desired_size = int(s)\n",
    "        dir_3 = 'groundtruth_output/resized_' + str(desired_size)\n",
    "        makesubfolder(dir_3)\n",
    "        for i in tqdm(range(len(files)),position=1):\n",
    "            for j in tqdm(range(len(files[i])),position=0):\n",
    "                im = Image.open(dir_2[i]+\"/\"+files[i][j])\n",
    "                img_greyscaled = im.convert('LA')\n",
    "                img_resized = img_greyscaled.resize((desired_size,desired_size))    \n",
    "        \n",
    "                img_resized.save(dir_3 + '/' + files[i][j], \"PNG\")"
   ]
  },
  {
   "cell_type": "code",
   "execution_count": null,
   "metadata": {},
   "outputs": [],
   "source": [
    "def add_artifact(image,occult_ratio,aspect_ratio=1):\n",
    "    mat_1 = np.array(image)[:,:,0]\n",
    "    size,_ = mat_1.shape\n",
    "    kernel_size = int(occult_ratio * size)\n",
    "    px,py = [np.random.randint(0,high = size-kernel_size),np.random.randint(0,high = size-kernel_size)]\n",
    "\n",
    "    artifact = np.zeros((kernel_size,kernel_size))\n",
    "    mat_1[px:px + kernel_size , py:py + kernel_size] = artifact\n",
    "    \n",
    "    return mat_1"
   ]
  },
  {
   "cell_type": "code",
   "execution_count": null,
   "metadata": {},
   "outputs": [],
   "source": [
    "#@vectorize(['float32(float32, float32)'], target='cuda')\n",
    "def occultation_pipeline(size):\n",
    "    dir_4 = ['groundtruth_output/resized_' + str(int(s)) + '/' for s in size]\n",
    "    occult_ratio = np.linspace(0.2,0.6,3)\n",
    "    makefolder('occulted_output')\n",
    "    for r in tqdm(occult_ratio,position=2):\n",
    "        i=0\n",
    "        for folder in tqdm(dir_4,position=1):\n",
    "            gtruth = os.listdir(folder)\n",
    "            path = 'occulted_output/'+ str(int(100*r)) + '_percent/' + str(int(size[i]))\n",
    "            makesubfolder(path)\n",
    "            for file in tqdm(gtruth,position=0):\n",
    "                image = folder +'/'+ str(file)\n",
    "                test = Image.open(image)\n",
    "                img_occulted = add_artifact(test,r)\n",
    "                img_final = Image.fromarray(img_occulted)\n",
    "                img_final.save(path +'/'+ str(file),\"PNG\")\n",
    "            i+=1"
   ]
  },
  {
   "cell_type": "code",
   "execution_count": null,
   "metadata": {},
   "outputs": [],
   "source": [
    "resize_pipeline(size)\n",
    "occultation_pipeline(size)"
   ]
  },
  {
   "cell_type": "code",
   "execution_count": null,
   "metadata": {},
   "outputs": [],
   "source": []
  }
 ],
 "metadata": {
  "kernelspec": {
   "display_name": "Python 3",
   "language": "python",
   "name": "python3"
  },
  "language_info": {
   "codemirror_mode": {
    "name": "ipython",
    "version": 3
   },
   "file_extension": ".py",
   "mimetype": "text/x-python",
   "name": "python",
   "nbconvert_exporter": "python",
   "pygments_lexer": "ipython3",
   "version": "3.7.3"
  }
 },
 "nbformat": 4,
 "nbformat_minor": 2
}
